{
 "cells": [
  {
   "cell_type": "markdown",
   "metadata": {},
   "source": [
    "# 1. Histogramas"
   ]
  },
  {
   "cell_type": "code",
   "execution_count": 99,
   "metadata": {
    "collapsed": false,
    "scrolled": true
   },
   "outputs": [
    {
     "data": {
      "text/plain": [
       "super_histograma (generic function with 2 methods)"
      ]
     },
     "execution_count": 99,
     "metadata": {},
     "output_type": "execute_result"
    }
   ],
   "source": [
    "\"\"\"This function takes a data array <vec> and a number of bins n_hist and returns an array with length = n_hist with the distribution of data.\n",
    "If n_hist is not provided the default value is 100.\"\"\"\n",
    "function super_histograma(vec::Array,n_hist=100)\n",
    "    N_ord = sort(vec)\n",
    "    \n",
    "    dx = (N_ord[end]-N_ord[1])/n_hist\n",
    "    x_1 = N_ord[1]\n",
    "\n",
    "    histo = zeros(n_hist)\n",
    "      \n",
    "    for k = 1 : length(N_ord)\n",
    "        \n",
    "        x_1 = N_ord[1]\n",
    "        \n",
    "        for j = 1 : length(histo)\n",
    "            \n",
    "            x_2 = x_1 + dx\n",
    "            \n",
    "            if N_ord[k] >= x_1 && N_ord[k] <= x_2\n",
    "                \n",
    "                histo[j] += 1\n",
    "                break\n",
    "                \n",
    "            else\n",
    "                x_1 += dx\n",
    "            \n",
    "            end\n",
    "        end\n",
    "    end\n",
    "    return histo\n",
    "end"
   ]
  },
  {
   "cell_type": "markdown",
   "metadata": {},
   "source": [
    "Nuestra función está bien documentada. Veamos esto:"
   ]
  },
  {
   "cell_type": "code",
   "execution_count": 100,
   "metadata": {
    "collapsed": false
   },
   "outputs": [
    {
     "name": "stdout",
     "output_type": "stream",
     "text": [
      "search: super_histograma super_histograma2\n",
      "\n"
     ]
    },
    {
     "data": {
      "text/latex": [
       "This function takes a data array <vec> and a number of bins n\\_hist and returns an array with length = n\\_hist with the distribution of data. If n\\_hist is not provided the default value is 100.\n",
       "This function takes a data array <vec> and a number of bins n\\_hist and returns an array with length = n\\_hist with the distribution of data.\n"
      ],
      "text/markdown": [
       "This function takes a data array <vec> and a number of bins n_hist and returns an array with length = n_hist with the distribution of data. If n_hist is not provided the default value is 100.\n",
       "\n",
       "This function takes a data array <vec> and a number of bins n_hist and returns an array with length = n_hist with the distribution of data.\n"
      ],
      "text/plain": [
       "This function takes a data array <vec> and a number of bins n_hist and returns an array with length = n_hist with the distribution of data. If n_hist is not provided the default value is 100.\n",
       "\n",
       "This function takes a data array <vec> and a number of bins n_hist and returns an array with length = n_hist with the distribution of data.\n"
      ]
     },
     "execution_count": 100,
     "metadata": {},
     "output_type": "execute_result"
    }
   ],
   "source": [
    "?super_histograma"
   ]
  },
  {
   "cell_type": "markdown",
   "metadata": {},
   "source": [
    "Probemos ahora con un vector `M` de ~ 10,000 entradas."
   ]
  },
  {
   "cell_type": "code",
   "execution_count": 101,
   "metadata": {
    "collapsed": false,
    "scrolled": true
   },
   "outputs": [],
   "source": [
    "M = randn(10000);"
   ]
  },
  {
   "cell_type": "markdown",
   "metadata": {},
   "source": [
    "Saquemos el histograma de `M` con nuestra gran función `super_histograma()`. "
   ]
  },
  {
   "cell_type": "code",
   "execution_count": 102,
   "metadata": {
    "collapsed": false,
    "scrolled": true
   },
   "outputs": [
    {
     "data": {
      "text/plain": [
       "100-element Array{Float64,1}:\n",
       " 1.0\n",
       " 1.0\n",
       " 3.0\n",
       " 0.0\n",
       " 0.0\n",
       " 0.0\n",
       " 0.0\n",
       " 4.0\n",
       " 4.0\n",
       " 4.0\n",
       " 5.0\n",
       " 4.0\n",
       " 8.0\n",
       " ⋮  \n",
       " 0.0\n",
       " 6.0\n",
       " 3.0\n",
       " 3.0\n",
       " 2.0\n",
       " 1.0\n",
       " 1.0\n",
       " 1.0\n",
       " 2.0\n",
       " 0.0\n",
       " 0.0\n",
       " 1.0"
      ]
     },
     "execution_count": 102,
     "metadata": {},
     "output_type": "execute_result"
    }
   ],
   "source": [
    "h = super_histograma(M,100)"
   ]
  },
  {
   "cell_type": "markdown",
   "metadata": {},
   "source": [
    "Finalmente, grafiquemos el histograma de `M`.\n",
    "\n",
    "**Nota:** Se graficó histograma vs rango($n_{hist}$) con fines ilustrativos solamente."
   ]
  },
  {
   "cell_type": "code",
   "execution_count": 103,
   "metadata": {
    "collapsed": false,
    "scrolled": false
   },
   "outputs": [
    {
     "data": {
      "image/png": "[encoded data removed]",
      "text/plain": [
       "PyPlot.Figure(PyObject <matplotlib.figure.Figure object at 0x000000002D94FB38>)"
      ]
     },
     "metadata": {},
     "output_type": "display_data"
    }
   ],
   "source": [
    "using PyPlot\n",
    "bar(1:100,h);"
   ]
  },
  {
   "cell_type": "markdown",
   "metadata": {},
   "source": [
    "# 3. Método de Simpson para integrar"
   ]
  },
  {
   "cell_type": "markdown",
   "metadata": {},
   "source": [
    "El *método de Simpson* es un método de integración numérica para la aproximación de integrales definidas en un intervalo *(a,b)*.\n",
    "\n",
    "Sigue esta forma:\n",
    "$$\\int_a^b f(x)dx \\approx \\frac{b-a}{6}\\left[f(a)+4f\\left(\\frac{a+b}{2}\\right)+f(b)\\right]$$\n",
    "Definiremos ahora la función `simpson()` que nos permitirá aproximar la integral de cualquier función en un intervalo *(a,b)*:"
   ]
  },
  {
   "cell_type": "code",
   "execution_count": 104,
   "metadata": {
    "collapsed": false
   },
   "outputs": [
    {
     "data": {
      "text/plain": [
       "simpson (generic function with 1 method)"
      ]
     },
     "execution_count": 104,
     "metadata": {},
     "output_type": "execute_result"
    }
   ],
   "source": [
    "\"\"\"This is the Simpson's rule for numerical integration, proposed by mathematician Thomas Simpson.\n",
    "It accepts as parameters function f and two numbers a,b that define the interval inside which the integral of f will be approximated.\"\"\"\n",
    "function simpson(f::Function,a,b)\n",
    "    integral = (b-a)/6 * (f(a)+4*f((a+b)/2)+f(b));\n",
    "    return integral\n",
    "end"
   ]
  },
  {
   "cell_type": "code",
   "execution_count": 105,
   "metadata": {
    "collapsed": false,
    "scrolled": true
   },
   "outputs": [
    {
     "name": "stdout",
     "output_type": "stream",
     "text": [
      "search: simpson\n",
      "\n"
     ]
    },
    {
     "data": {
      "text/latex": [
       "This is the Simpson's rule for numerical integration, proposed by mathematician Thomas Simpson. It accepts as parameters function f and two numbers a,b that define the interval inside which the integral of f will be approximated.\n"
      ],
      "text/markdown": [
       "This is the Simpson's rule for numerical integration, proposed by mathematician Thomas Simpson. It accepts as parameters function f and two numbers a,b that define the interval inside which the integral of f will be approximated.\n"
      ],
      "text/plain": [
       "This is the Simpson's rule for numerical integration, proposed by mathematician Thomas Simpson. It accepts as parameters function f and two numbers a,b that define the interval inside which the integral of f will be approximated.\n"
      ]
     },
     "execution_count": 105,
     "metadata": {},
     "output_type": "execute_result"
    }
   ],
   "source": [
    "?simpson"
   ]
  },
  {
   "cell_type": "markdown",
   "metadata": {},
   "source": [
    "Definamos nuestra función prueba como $f(x) = x^2$."
   ]
  },
  {
   "cell_type": "code",
   "execution_count": 106,
   "metadata": {
    "collapsed": false
   },
   "outputs": [
    {
     "data": {
      "text/plain": [
       "f (generic function with 1 method)"
      ]
     },
     "execution_count": 106,
     "metadata": {},
     "output_type": "execute_result"
    }
   ],
   "source": [
    "f(x) = x^2"
   ]
  },
  {
   "cell_type": "markdown",
   "metadata": {},
   "source": [
    "Sabemos que la integral de $f(x) = x^2$ es $\\frac{x^3}{3}$ y, evaluada de 0 a 1, nos da un valor de $\\approx 0.333333$. Veamos si nuestra función es acertada."
   ]
  },
  {
   "cell_type": "code",
   "execution_count": 107,
   "metadata": {
    "collapsed": false
   },
   "outputs": [
    {
     "data": {
      "text/plain": [
       "0.3333333333333333"
      ]
     },
     "execution_count": 107,
     "metadata": {},
     "output_type": "execute_result"
    }
   ],
   "source": [
    "simpson(f,0,1)"
   ]
  },
  {
   "cell_type": "markdown",
   "metadata": {},
   "source": [
    "Finalmente veamos que si tomamos el intervalo inverso (i.e., el (1,0)), nos da el negativo de la integral."
   ]
  },
  {
   "cell_type": "code",
   "execution_count": 108,
   "metadata": {
    "collapsed": false
   },
   "outputs": [
    {
     "data": {
      "text/plain": [
       "-0.3333333333333333"
      ]
     },
     "execution_count": 108,
     "metadata": {},
     "output_type": "execute_result"
    }
   ],
   "source": [
    "simpson(f,1,0)"
   ]
  }
 ],
 "metadata": {
  "kernelspec": {
   "display_name": "Julia 0.4.3",
   "language": "julia",
   "name": "julia-0.4"
  },
  "language_info": {
   "file_extension": ".jl",
   "mimetype": "application/julia",
   "name": "julia",
   "version": "0.4.3"
  }
 },
 "nbformat": 4,
 "nbformat_minor": 0
}
