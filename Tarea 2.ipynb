{
 "cells": [
  {
   "cell_type": "markdown",
   "metadata": {},
   "source": [
    "# 1. Histogramas"
   ]
  },
  {
   "cell_type": "code",
   "execution_count": 1,
   "metadata": {
    "collapsed": false
   },
   "outputs": [
    {
     "data": {
      "text/plain": [
       "100-element Array{Float64,1}:\n",
       " -0.526432\n",
       " -0.71704 \n",
       "  0.646725\n",
       " -1.43885 \n",
       "  1.23594 \n",
       " -0.351153\n",
       " -1.26183 \n",
       "  1.0909  \n",
       " -1.21608 \n",
       "  0.725113\n",
       " -0.871343\n",
       " -1.83563 \n",
       " -0.144344\n",
       "  ⋮       \n",
       "  0.973742\n",
       "  0.264845\n",
       " -0.290622\n",
       " -0.594619\n",
       " -0.26775 \n",
       " -1.71634 \n",
       "  2.20575 \n",
       "  1.91101 \n",
       " -0.453512\n",
       "  0.861788\n",
       " -1.15141 \n",
       " -0.814736"
      ]
     },
     "execution_count": 1,
     "metadata": {},
     "output_type": "execute_result"
    }
   ],
   "source": [
    "N = randn(100);\n",
    "# function histograma()"
   ]
  },
  {
   "cell_type": "code",
   "execution_count": null,
   "metadata": {
    "collapsed": true
   },
   "outputs": [],
   "source": []
  }
 ],
 "metadata": {
  "kernelspec": {
   "display_name": "Julia 0.4.3",
   "language": "julia",
   "name": "julia-0.4"
  },
  "language_info": {
   "file_extension": ".jl",
   "mimetype": "application/julia",
   "name": "julia",
   "version": "0.4.3"
  }
 },
 "nbformat": 4,
 "nbformat_minor": 0
}
