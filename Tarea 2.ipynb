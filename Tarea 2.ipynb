{
 "cells": [
  {
   "cell_type": "markdown",
   "metadata": {},
   "source": [
    "# 1. Histogramas"
   ]
  },
  {
   "cell_type": "code",
   "execution_count": 46,
   "metadata": {
    "collapsed": false,
    "scrolled": true
   },
   "outputs": [
    {
     "data": {
      "text/plain": [
       "super_histograma (generic function with 1 method)"
      ]
     },
     "execution_count": 46,
     "metadata": {},
     "output_type": "execute_result"
    }
   ],
   "source": [
    "\"\"\"This function takes a data array <vec> and a number of bins n_hist and returns an array with length = n_hist with the distribution of data.\"\"\"\n",
    "function super_histograma(vec::Array,n_hist)\n",
    "    N_ord = sort(vec)\n",
    "    \n",
    "    dx = (N_ord[end]-N_ord[1])/n_hist\n",
    "    x_1 = N_ord[1]\n",
    "\n",
    "    histo = zeros(n_hist)\n",
    "      \n",
    "    for k = 1 : length(N_ord)\n",
    "        \n",
    "        x_1 = N_ord[1]\n",
    "        \n",
    "        for j = 1 : length(histo)\n",
    "            \n",
    "            x_2 = x_1 + dx\n",
    "            \n",
    "            if N_ord[k] >= x_1 && N_ord[k] <= x_2\n",
    "                \n",
    "                histo[j] += 1\n",
    "                break\n",
    "                \n",
    "            else\n",
    "                x_1 += dx\n",
    "            \n",
    "            end\n",
    "        end\n",
    "    end\n",
    "    return histo\n",
    "end"
   ]
  },
  {
   "cell_type": "markdown",
   "metadata": {},
   "source": [
    "Nuestra función está bien documentada. Veamos esto:"
   ]
  },
  {
   "cell_type": "code",
   "execution_count": 47,
   "metadata": {
    "collapsed": false
   },
   "outputs": [
    {
     "name": "stdout",
     "output_type": "stream",
     "text": [
      "search: super_histograma super_histograma2\n",
      "\n"
     ]
    },
    {
     "data": {
      "text/latex": [
       "This function takes a data array <vec> and a number of bins n\\_hist and returns an array with length = n\\_hist with the distribution of data.\n"
      ],
      "text/markdown": [
       "This function takes a data array <vec> and a number of bins n_hist and returns an array with length = n_hist with the distribution of data.\n"
      ],
      "text/plain": [
       "This function takes a data array <vec> and a number of bins n_hist and returns an array with length = n_hist with the distribution of data.\n"
      ]
     },
     "execution_count": 47,
     "metadata": {},
     "output_type": "execute_result"
    }
   ],
   "source": [
    "?super_histograma"
   ]
  },
  {
   "cell_type": "markdown",
   "metadata": {},
   "source": [
    "Probemos ahora con un vector `M` de ~ 10,000 entradas."
   ]
  },
  {
   "cell_type": "code",
   "execution_count": 48,
   "metadata": {
    "collapsed": false,
    "scrolled": true
   },
   "outputs": [],
   "source": [
    "M = randn(10000);"
   ]
  },
  {
   "cell_type": "markdown",
   "metadata": {},
   "source": [
    "Saquemos el histograma de `M` con nuestra gran función `super_histograma()`. "
   ]
  },
  {
   "cell_type": "code",
   "execution_count": 49,
   "metadata": {
    "collapsed": false,
    "scrolled": true
   },
   "outputs": [
    {
     "data": {
      "text/plain": [
       "100-element Array{Float64,1}:\n",
       "  1.0\n",
       "  2.0\n",
       "  2.0\n",
       "  1.0\n",
       "  0.0\n",
       "  3.0\n",
       "  1.0\n",
       "  7.0\n",
       "  2.0\n",
       "  1.0\n",
       "  6.0\n",
       "  8.0\n",
       "  6.0\n",
       "  ⋮  \n",
       "  4.0\n",
       " 10.0\n",
       "  7.0\n",
       "  1.0\n",
       "  1.0\n",
       "  4.0\n",
       "  3.0\n",
       "  0.0\n",
       "  1.0\n",
       "  0.0\n",
       "  0.0\n",
       "  2.0"
      ]
     },
     "execution_count": 49,
     "metadata": {},
     "output_type": "execute_result"
    }
   ],
   "source": [
    "h = super_histograma2(M,100)"
   ]
  },
  {
   "cell_type": "markdown",
   "metadata": {},
   "source": [
    "Finalmente, grafiquemos el histograma de `M`.\n",
    "\n",
    "**Nota:** Se graficó histograma vs rango($n_{hist}$) con fines ilustrativos solamente."
   ]
  },
  {
   "cell_type": "code",
   "execution_count": 42,
   "metadata": {
    "collapsed": false,
    "scrolled": false
   },
   "outputs": [
    {
     "data": {
      "image/png": "[encoded data removed]",
      "text/plain": [
       "PyPlot.Figure(PyObject <matplotlib.figure.Figure object at 0x00000000290E7DD8>)"
      ]
     },
     "metadata": {},
     "output_type": "display_data"
    },
    {
     "data": {
      "text/plain": [
       "(PyObject <matplotlib.patches.Rectangle object at 0x000000002B94DE10>,PyObject <matplotlib.patches.Rectangle object at 0x000000002A72B9B0>,PyObject <matplotlib.patches.Rectangle object at 0x000000002A7C3048>,PyObject <matplotlib.patches.Rectangle object at 0x000000002A7EDA58>,PyObject <matplotlib.patches.Rectangle object at 0x000000002A7ED160>,PyObject <matplotlib.patches.Rectangle object at 0x000000002A7EDF28>,PyObject <matplotlib.patches.Rectangle object at 0x000000002A7ED048>,PyObject <matplotlib.patches.Rectangle object at 0x000000002A7C3F60>,PyObject <matplotlib.patches.Rectangle object at 0x000000002A7ED278>,PyObject <matplotlib.patches.Rectangle object at 0x000000002A7D0E48>,PyObject <matplotlib.patches.Rectangle object at 0x000000002A7ED4A8>,PyObject <matplotlib.patches.Rectangle object at 0x000000002B9B30F0>,PyObject <matplotlib.patches.Rectangle object at 0x000000002B9B3F98>,PyObject <matplotlib.patches.Rectangle object at 0x000000002A7C3978>,PyObject <matplotlib.patches.Rectangle object at 0x000000002B9C3160>,PyObject <matplotlib.patches.Rectangle object at 0x000000002A7C3898>,PyObject <matplotlib.patches.Rectangle object at 0x000000002A7C35C0>,PyObject <matplotlib.patches.Rectangle object at 0x000000002B9D05F8>,PyObject <matplotlib.patches.Rectangle object at 0x000000002B9D0E10>,PyObject <matplotlib.patches.Rectangle object at 0x000000002B9D0390>,PyObject <matplotlib.patches.Rectangle object at 0x000000002B977DD8>,PyObject <matplotlib.patches.Rectangle object at 0x000000002B9B32B0>,PyObject <matplotlib.patches.Rectangle object at 0x000000002B9C3390>,PyObject <matplotlib.patches.Rectangle object at 0x000000002BA31F28>,PyObject <matplotlib.patches.Rectangle object at 0x000000002BA31DD8>,PyObject <matplotlib.patches.Rectangle object at 0x000000002B9C39B0>,PyObject <matplotlib.patches.Rectangle object at 0x000000002B9B3240>,PyObject <matplotlib.patches.Rectangle object at 0x000000002A7ED668>,PyObject <matplotlib.patches.Rectangle object at 0x000000002B9D04E0>,PyObject <matplotlib.patches.Rectangle object at 0x000000002A811940>,PyObject <matplotlib.patches.Rectangle object at 0x000000002B6787F0>,PyObject <matplotlib.patches.Rectangle object at 0x000000002B910BA8>,PyObject <matplotlib.patches.Rectangle object at 0x000000002BA317F0>,PyObject <matplotlib.patches.Rectangle object at 0x000000002BA31240>,PyObject <matplotlib.patches.Rectangle object at 0x00000000292DB4E0>,PyObject <matplotlib.patches.Rectangle object at 0x000000002B977F60>,PyObject <matplotlib.patches.Rectangle object at 0x000000002B6D2C88>,PyObject <matplotlib.patches.Rectangle object at 0x000000002B678DA0>,PyObject <matplotlib.patches.Rectangle object at 0x000000002BA73FD0>,PyObject <matplotlib.patches.Rectangle object at 0x000000002B9779E8>,PyObject <matplotlib.patches.Rectangle object at 0x000000002A811128>,PyObject <matplotlib.patches.Rectangle object at 0x000000002BA73320>,PyObject <matplotlib.patches.Rectangle object at 0x000000002B6C58D0>,PyObject <matplotlib.patches.Rectangle object at 0x000000002A709208>,PyObject <matplotlib.patches.Rectangle object at 0x000000002BA83470>,PyObject <matplotlib.patches.Rectangle object at 0x000000002BA50470>,PyObject <matplotlib.patches.Rectangle object at 0x000000002BA73A90>,PyObject <matplotlib.patches.Rectangle object at 0x000000002BA915C0>,PyObject <matplotlib.patches.Rectangle object at 0x000000002BAA0080>,PyObject <matplotlib.patches.Rectangle object at 0x000000002BAAED30>,PyObject <matplotlib.patches.Rectangle object at 0x000000002BA5E390>,PyObject <matplotlib.patches.Rectangle object at 0x000000002BAAE160>,PyObject <matplotlib.patches.Rectangle object at 0x000000002BA83BE0>,PyObject <matplotlib.patches.Rectangle object at 0x000000002BA91780>,PyObject <matplotlib.patches.Rectangle object at 0x000000002BA911D0>,PyObject <matplotlib.patches.Rectangle object at 0x000000002BB02400>,PyObject <matplotlib.patches.Rectangle object at 0x000000002BA91160>,PyObject <matplotlib.patches.Rectangle object at 0x000000002BB0F400>,PyObject <matplotlib.patches.Rectangle object at 0x000000002A7ED208>,PyObject <matplotlib.patches.Rectangle object at 0x000000002BAAE470>,PyObject <matplotlib.patches.Rectangle object at 0x000000002BAAE400>,PyObject <matplotlib.patches.Rectangle object at 0x000000002BAA02B0>,PyObject <matplotlib.patches.Rectangle object at 0x000000002BB2D160>,PyObject <matplotlib.patches.Rectangle object at 0x000000002BB7F5F8>,PyObject <matplotlib.patches.Rectangle object at 0x000000002B977B00>,PyObject <matplotlib.patches.Rectangle object at 0x000000002BA41EF0>,PyObject <matplotlib.patches.Rectangle object at 0x000000002BB2D940>,PyObject <matplotlib.patches.Rectangle object at 0x000000002B9B3860>,PyObject <matplotlib.patches.Rectangle object at 0x000000002BB2DF98>,PyObject <matplotlib.patches.Rectangle object at 0x000000002BAA0320>,PyObject <matplotlib.patches.Rectangle object at 0x000000002BB7F390>,PyObject <matplotlib.patches.Rectangle object at 0x000000002BB7FB00>,PyObject <matplotlib.patches.Rectangle object at 0x000000002BB9C4E0>,PyObject <matplotlib.patches.Rectangle object at 0x000000002BBAB0F0>,PyObject <matplotlib.patches.Rectangle object at 0x000000002BBCEDA0>,PyObject <matplotlib.patches.Rectangle object at 0x000000002BB8E6A0>,PyObject <matplotlib.patches.Rectangle object at 0x000000002BB8E0F0>,PyObject <matplotlib.patches.Rectangle object at 0x000000002BB8EBE0>,PyObject <matplotlib.patches.Rectangle object at 0x000000002BB9C7F0>,PyObject <matplotlib.patches.Rectangle object at 0x000000002BB9C240>,PyObject <matplotlib.patches.Rectangle object at 0x000000002BB9CD30>,PyObject <matplotlib.patches.Rectangle object at 0x000000002BBDD470>,PyObject <matplotlib.patches.Rectangle object at 0x000000002BC0CF28>,PyObject <matplotlib.patches.Rectangle object at 0x000000002BBAB390>,PyObject <matplotlib.patches.Rectangle object at 0x000000002BBED5C0>,PyObject <matplotlib.patches.Rectangle object at 0x000000002BC0C048>,PyObject <matplotlib.patches.Rectangle object at 0x000000002BBDDBE0>,PyObject <matplotlib.patches.Rectangle object at 0x000000002BBAB320>,PyObject <matplotlib.patches.Rectangle object at 0x000000002BBDDB70>,PyObject <matplotlib.patches.Rectangle object at 0x000000002BBED780>,PyObject <matplotlib.patches.Rectangle object at 0x000000002BBED1D0>,PyObject <matplotlib.patches.Rectangle object at 0x000000002BBEDCC0>,PyObject <matplotlib.patches.Rectangle object at 0x000000002BC19400>,PyObject <matplotlib.patches.Rectangle object at 0x000000002BBFDE10>,PyObject <matplotlib.patches.Rectangle object at 0x000000002A7ED1D0>,PyObject <matplotlib.patches.Rectangle object at 0x000000002BC0C470>,PyObject <matplotlib.patches.Rectangle object at 0x000000002BC58E10>,PyObject <matplotlib.patches.Rectangle object at 0x000000002BBFD2B0>,PyObject <matplotlib.patches.Rectangle object at 0x000000002BC0CFD0>,PyObject <matplotlib.patches.Rectangle object at 0x000000002BC390B8>)"
      ]
     },
     "execution_count": 42,
     "metadata": {},
     "output_type": "execute_result"
    }
   ],
   "source": [
    "using PyPlot\n",
    "bar(1:100,h)"
   ]
  },
  {
   "cell_type": "code",
   "execution_count": null,
   "metadata": {
    "collapsed": true
   },
   "outputs": [],
   "source": []
  }
 ],
 "metadata": {
  "kernelspec": {
   "display_name": "Julia 0.4.3",
   "language": "julia",
   "name": "julia-0.4"
  },
  "language_info": {
   "file_extension": ".jl",
   "mimetype": "application/julia",
   "name": "julia",
   "version": "0.4.3"
  }
 },
 "nbformat": 4,
 "nbformat_minor": 0
}
