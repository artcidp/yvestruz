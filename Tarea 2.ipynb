{
 "cells": [
  {
   "cell_type": "markdown",
   "metadata": {},
   "source": [
    "# 1. Histogramas"
   ]
  },
  {
   "cell_type": "code",
   "execution_count": 301,
   "metadata": {
    "collapsed": false,
    "scrolled": true
   },
   "outputs": [
    {
     "data": {
      "text/plain": [
       "10000-element Array{Float64,1}:\n",
       " -0.169329  \n",
       " -0.347001  \n",
       " -1.16582   \n",
       " -0.00472209\n",
       " -1.70485   \n",
       " -2.0774    \n",
       "  1.0929    \n",
       "  0.0817785 \n",
       "  0.229232  \n",
       "  0.310836  \n",
       " -0.553365  \n",
       " -1.84113   \n",
       "  1.78551   \n",
       "  ⋮         \n",
       "  0.76036   \n",
       "  0.805189  \n",
       " -1.86368   \n",
       "  0.62499   \n",
       " -0.596041  \n",
       "  0.461587  \n",
       " -0.902175  \n",
       "  1.24236   \n",
       "  1.36534   \n",
       " -0.841262  \n",
       " -0.884447  \n",
       "  1.21949   "
      ]
     },
     "execution_count": 301,
     "metadata": {},
     "output_type": "execute_result"
    }
   ],
   "source": [
    "M = randn(10000;)"
   ]
  },
  {
   "cell_type": "code",
   "execution_count": 300,
   "metadata": {
    "collapsed": false
   },
   "outputs": [
    {
     "data": {
      "text/plain": [
       "super_histograma (generic function with 1 method)"
      ]
     },
     "execution_count": 300,
     "metadata": {},
     "output_type": "execute_result"
    }
   ],
   "source": [
    "function super_histograma(vec::Array,n_hist)\n",
    "    N_ord = sort(vec)\n",
    "    \n",
    "    dx = (N_ord[end]-N_ord[1])/n_hist\n",
    "    x_1 = N_ord[1]\n",
    "\n",
    "    hist = zeros(n_hist)\n",
    "    j = 1\n",
    "    \n",
    "    for k = 1 : length(N_ord)\n",
    "        x_2 = x_1 + dx\n",
    "        \n",
    "        if N_ord[k] >= x_1 && N_ord[k] <= x_2\n",
    "            hist[j] += 1\n",
    "        else\n",
    "        hist[j+1] += 1\n",
    "            x_1 += dx\n",
    "            j += 1\n",
    "        end\n",
    "    end\n",
    "    return hist\n",
    "end"
   ]
  },
  {
   "cell_type": "code",
   "execution_count": 303,
   "metadata": {
    "collapsed": false,
    "scrolled": true
   },
   "outputs": [
    {
     "data": {
      "text/plain": [
       "100-element Array{Float64,1}:\n",
       " 1.0\n",
       " 1.0\n",
       " 1.0\n",
       " 1.0\n",
       " 1.0\n",
       " 1.0\n",
       " 1.0\n",
       " 1.0\n",
       " 3.0\n",
       " 2.0\n",
       " 5.0\n",
       " 2.0\n",
       " 9.0\n",
       " ⋮  \n",
       " 2.0\n",
       " 1.0\n",
       " 1.0\n",
       " 1.0\n",
       " 0.0\n",
       " 0.0\n",
       " 0.0\n",
       " 0.0\n",
       " 0.0\n",
       " 0.0\n",
       " 0.0\n",
       " 0.0"
      ]
     },
     "execution_count": 303,
     "metadata": {},
     "output_type": "execute_result"
    }
   ],
   "source": [
    "h = super_histograma(M,100)"
   ]
  },
  {
   "cell_type": "code",
   "execution_count": 296,
   "metadata": {
    "collapsed": false
   },
   "outputs": [],
   "source": [
    "n_hist = 10\n",
    "vec = randn(20)\n",
    "N_ord = sort(vec)\n",
    "    \n",
    "    dx = (N_ord[end]-N_ord[1])/n_hist\n",
    "    x_1 = N_ord[1]\n",
    "\n",
    "    hist = zeros(n_hist)\n",
    "    j = 1\n",
    "    \n",
    "    for k = 1 : length(N_ord)\n",
    "        x_2 = x_1 + dx\n",
    "        if N_ord[k] >= x_1 && N_ord[k] <= x_2\n",
    "            hist[j] += 1\n",
    "        else\n",
    "        hist[j+1] += 1\n",
    "            x_1 += dx\n",
    "            j += 1\n",
    "        end\n",
    "    end"
   ]
  },
  {
   "cell_type": "code",
   "execution_count": 311,
   "metadata": {
    "collapsed": false
   },
   "outputs": [
    {
     "data": {
      "text/plain": [
       "1-element Array{Any,1}:\n",
       " PyObject <matplotlib.lines.Line2D object at 0x000000002A6AEA90>"
      ]
     },
     "execution_count": 311,
     "metadata": {},
     "output_type": "execute_result"
    }
   ],
   "source": [
    "using PyPlot\n",
    "# plot(1:100,h)\n",
    "x = linspace(0,2*pi);\n",
    "y = sin(x);\n",
    "plot(x,y)"
   ]
  }
 ],
 "metadata": {
  "kernelspec": {
   "display_name": "Julia 0.4.3",
   "language": "julia",
   "name": "julia-0.4"
  },
  "language_info": {
   "file_extension": ".jl",
   "mimetype": "application/julia",
   "name": "julia",
   "version": "0.4.3"
  }
 },
 "nbformat": 4,
 "nbformat_minor": 0
}
