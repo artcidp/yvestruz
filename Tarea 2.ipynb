{
 "cells": [
  {
   "cell_type": "code",
   "execution_count": 2,
   "metadata": {
    "collapsed": true
   },
   "outputs": [],
   "source": [
    "# 1. Histogramas"
   ]
  },
  {
   "cell_type": "code",
   "execution_count": 3,
   "metadata": {
    "collapsed": false,
    "scrolled": true
   },
   "outputs": [
    {
     "data": {
      "text/plain": [
       "super_histograma (generic function with 2 methods)"
      ]
     },
     "execution_count": 3,
     "metadata": {},
     "output_type": "execute_result"
    }
   ],
   "source": [
    "\"\"\"This function takes a data array <vec> and a number of bins n_hist and returns an array with length = n_hist with the distribution of data.\n",
    "If n_hist is not provided the default value is 100.\"\"\"\n",
    "function super_histograma(vec::Array,n_hist=100)\n",
    "    N_ord = sort(vec)\n",
    "    \n",
    "    dx = (N_ord[end]-N_ord[1])/n_hist\n",
    "    x_1 = N_ord[1]\n",
    "\n",
    "    histo = zeros(n_hist)\n",
    "      \n",
    "    for k = 1 : length(N_ord)\n",
    "        \n",
    "        x_1 = N_ord[1]\n",
    "        \n",
    "        for j = 1 : length(histo)\n",
    "            \n",
    "            x_2 = x_1 + dx\n",
    "            \n",
    "            if N_ord[k] >= x_1 && N_ord[k] <= x_2\n",
    "                \n",
    "                histo[j] += 1\n",
    "                break\n",
    "                \n",
    "            else\n",
    "                x_1 += dx\n",
    "            \n",
    "            end\n",
    "        end\n",
    "    end\n",
    "    return histo\n",
    "end"
   ]
  },
  {
   "cell_type": "markdown",
   "metadata": {},
   "source": [
    "Nuestra función está bien documentada. Veamos esto:"
   ]
  },
  {
   "cell_type": "code",
   "execution_count": 4,
   "metadata": {
    "collapsed": false
   },
   "outputs": [
    {
     "name": "stdout",
     "output_type": "stream",
     "text": [
      "search: super_histograma\n",
      "\n"
     ]
    },
    {
     "data": {
      "text/latex": [
       "This function takes a data array <vec> and a number of bins n\\_hist and returns an array with length = n\\_hist with the distribution of data. If n\\_hist is not provided the default value is 100.\n"
      ],
      "text/markdown": [
       "This function takes a data array <vec> and a number of bins n_hist and returns an array with length = n_hist with the distribution of data. If n_hist is not provided the default value is 100.\n"
      ],
      "text/plain": [
       "This function takes a data array <vec> and a number of bins n_hist and returns an array with length = n_hist with the distribution of data. If n_hist is not provided the default value is 100.\n"
      ]
     },
     "execution_count": 4,
     "metadata": {},
     "output_type": "execute_result"
    }
   ],
   "source": [
    "?super_histograma"
   ]
  },
  {
   "cell_type": "markdown",
   "metadata": {},
   "source": [
    "Probemos ahora con un vector `M` de ~ 10,000 entradas."
   ]
  },
  {
   "cell_type": "code",
   "execution_count": 5,
   "metadata": {
    "collapsed": false,
    "scrolled": true
   },
   "outputs": [],
   "source": [
    "M = randn(10000);"
   ]
  },
  {
   "cell_type": "markdown",
   "metadata": {},
   "source": [
    "Saquemos el histograma de `M` con nuestra gran función `super_histograma()`. "
   ]
  },
  {
   "cell_type": "code",
   "execution_count": 6,
   "metadata": {
    "collapsed": false,
    "scrolled": true
   },
   "outputs": [
    {
     "data": {
      "text/plain": [
       "100-element Array{Float64,1}:\n",
       " 1.0\n",
       " 0.0\n",
       " 0.0\n",
       " 0.0\n",
       " 0.0\n",
       " 0.0\n",
       " 0.0\n",
       " 0.0\n",
       " 1.0\n",
       " 1.0\n",
       " 0.0\n",
       " 0.0\n",
       " 1.0\n",
       " ⋮  \n",
       " 4.0\n",
       " 6.0\n",
       " 2.0\n",
       " 3.0\n",
       " 4.0\n",
       " 3.0\n",
       " 4.0\n",
       " 0.0\n",
       " 0.0\n",
       " 1.0\n",
       " 0.0\n",
       " 0.0"
      ]
     },
     "execution_count": 6,
     "metadata": {},
     "output_type": "execute_result"
    }
   ],
   "source": [
    "h = super_histograma(M,100)"
   ]
  },
  {
   "cell_type": "markdown",
   "metadata": {},
   "source": [
    "Finalmente, grafiquemos el histograma de `M`.\n",
    "\n",
    "**Nota:** Se graficó histograma vs rango($n_{hist}$) con fines ilustrativos solamente."
   ]
  },
  {
   "cell_type": "code",
   "execution_count": 7,
   "metadata": {
    "collapsed": false,
    "scrolled": false
   },
   "outputs": [
    {
     "data": {
      "image/png": "[encoded data removed]",
      "text/plain": [
       "PyPlot.Figure(PyObject <matplotlib.figure.Figure object at 0x000000001BDD8A58>)"
      ]
     },
     "metadata": {},
     "output_type": "display_data"
    }
   ],
   "source": [
    "using PyPlot\n",
    "bar(1:100,h);"
   ]
  },
  {
   "cell_type": "markdown",
   "metadata": {},
   "source": [
    "# 2. Promedio y Varianza"
   ]
  },
  {
   "cell_type": "markdown",
   "metadata": {},
   "source": [
    "#### a)Definir funciones para calcular promedio y varianza, comparando con *mean* y *var*"
   ]
  },
  {
   "cell_type": "markdown",
   "metadata": {},
   "source": [
    "Para un conjunto de n números ${x_1,x_2,...,x_n}$, su promedio o media aritmética esta dada por $\\bar{x}=\\frac{1}{n}\\sum\\limits_{i=1}^n x_i$. Además, su varianza se calcula a partir del promedio y está dada por $\\sigma_n^2=\\frac{1}{n}\\sum\\limits_{i=1}^n (\\bar{x}-x_i)^2$."
   ]
  },
  {
   "cell_type": "code",
   "execution_count": 8,
   "metadata": {
    "collapsed": false,
    "scrolled": true
   },
   "outputs": [
    {
     "data": {
      "text/plain": [
       "promedio (generic function with 1 method)"
      ]
     },
     "execution_count": 8,
     "metadata": {},
     "output_type": "execute_result"
    }
   ],
   "source": [
    "\"This function calculates the arithmetic mean over all the elements of an array\"\n",
    "\n",
    "function promedio(S::Array) #el argumento es un array de cualquier dimensión\n",
    "    sum=0.0\n",
    "    for j in S  #el for corre sobre los elementos del array y los va sumando\n",
    "        sum+=j\n",
    "        #println(j)\n",
    "    end \n",
    "    #println(\"suma=\",sum)\n",
    "    return sum/length(S)\n",
    "end    "
   ]
  },
  {
   "cell_type": "code",
   "execution_count": 9,
   "metadata": {
    "collapsed": false
   },
   "outputs": [
    {
     "data": {
      "text/plain": [
       "-0.006889806437680143"
      ]
     },
     "execution_count": 9,
     "metadata": {},
     "output_type": "execute_result"
    }
   ],
   "source": [
    "promedio(M) #la función calcula el promedio de todos los elementos del arreglo M, definido anteriormente"
   ]
  },
  {
   "cell_type": "code",
   "execution_count": 10,
   "metadata": {
    "collapsed": false
   },
   "outputs": [
    {
     "data": {
      "text/plain": [
       "10-element Array{Float64,1}:\n",
       " 0.490437 \n",
       " 0.151816 \n",
       " 0.90279  \n",
       " 0.544765 \n",
       " 0.0369667\n",
       " 0.742674 \n",
       " 0.607743 \n",
       " 0.245285 \n",
       " 0.0969969\n",
       " 0.453523 "
      ]
     },
     "execution_count": 10,
     "metadata": {},
     "output_type": "execute_result"
    }
   ],
   "source": [
    "Q=rand(10); #creamos un vector de 10 entradas"
   ]
  },
  {
   "cell_type": "code",
   "execution_count": 11,
   "metadata": {
    "collapsed": false
   },
   "outputs": [
    {
     "data": {
      "text/plain": [
       "0.42729979455609896"
      ]
     },
     "execution_count": 11,
     "metadata": {},
     "output_type": "execute_result"
    }
   ],
   "source": [
    "promedio(Q') #la función también puede calcularlo con su conjugado"
   ]
  },
  {
   "cell_type": "code",
   "execution_count": 12,
   "metadata": {
    "collapsed": false
   },
   "outputs": [],
   "source": [
    "P=rand(3,3,4);"
   ]
  },
  {
   "cell_type": "code",
   "execution_count": 13,
   "metadata": {
    "collapsed": false
   },
   "outputs": [
    {
     "data": {
      "text/plain": [
       "0.4456546709413305"
      ]
     },
     "execution_count": 13,
     "metadata": {},
     "output_type": "execute_result"
    }
   ],
   "source": [
    "promedio(P) #también funciona con arreglos de mayores dimensiones"
   ]
  },
  {
   "cell_type": "markdown",
   "metadata": {},
   "source": [
    "A continuación definiremos la función varianza"
   ]
  },
  {
   "cell_type": "code",
   "execution_count": 14,
   "metadata": {
    "collapsed": false
   },
   "outputs": [
    {
     "data": {
      "text/plain": [
       "varianza (generic function with 1 method)"
      ]
     },
     "execution_count": 14,
     "metadata": {},
     "output_type": "execute_result"
    }
   ],
   "source": [
    "\"Esta función calcula la varianza de un arreglo n dimensional de números\" \n",
    "\n",
    "function varianza(S::Array) #el argumento es un array de cualquier dimensión\n",
    "    sum=0.0\n",
    "    for j in S  #el for corre sobre los elementos del array y los va sumando\n",
    "        sum+=(promedio(S)-j)^2\n",
    "        #println(j)\n",
    "    end \n",
    "    #println(\"suma=\",sum)\n",
    "    return sum/length(S)\n",
    "end    "
   ]
  },
  {
   "cell_type": "code",
   "execution_count": 15,
   "metadata": {
    "collapsed": false,
    "scrolled": true
   },
   "outputs": [
    {
     "data": {
      "text/plain": [
       "(0.996740186652756,0.07470647143630468,0.07470647143630468,0.0956004786614061,NaN,0.0)"
      ]
     },
     "execution_count": 15,
     "metadata": {},
     "output_type": "execute_result"
    }
   ],
   "source": [
    "varianza(M), varianza(Q),varianza(Q'),varianza(P),varianza([NaN]),varianza([0.1]) #ejemplos de ejecución de la función"
   ]
  },
  {
   "cell_type": "markdown",
   "metadata": {},
   "source": [
    "A continuación compararemos con las funciones *mean* y *var* que tiene Julia"
   ]
  },
  {
   "cell_type": "code",
   "execution_count": 16,
   "metadata": {
    "collapsed": false
   },
   "outputs": [
    {
     "data": {
      "text/plain": [
       "2-element Array{Float64,1}:\n",
       " -0.00688981\n",
       " -0.00688981"
      ]
     },
     "execution_count": 16,
     "metadata": {},
     "output_type": "execute_result"
    }
   ],
   "source": [
    "T1=[mean(M),promedio(M)] "
   ]
  },
  {
   "cell_type": "code",
   "execution_count": 17,
   "metadata": {
    "collapsed": false
   },
   "outputs": [
    {
     "data": {
      "text/plain": [
       "1.0408340855860843e-17"
      ]
     },
     "execution_count": 17,
     "metadata": {},
     "output_type": "execute_result"
    }
   ],
   "source": [
    "abs(T1[1]-T1[2]) #hay una pequeña diferencia numérica"
   ]
  },
  {
   "cell_type": "code",
   "execution_count": 18,
   "metadata": {
    "collapsed": false
   },
   "outputs": [
    {
     "data": {
      "text/plain": [
       "2-element Array{Float64,1}:\n",
       " 0.99684\n",
       " 0.99674"
      ]
     },
     "execution_count": 18,
     "metadata": {},
     "output_type": "execute_result"
    }
   ],
   "source": [
    "T2=[var(M),varianza(M)]"
   ]
  },
  {
   "cell_type": "code",
   "execution_count": 19,
   "metadata": {
    "collapsed": false
   },
   "outputs": [
    {
     "data": {
      "text/plain": [
       "9.968398706361459e-5"
      ]
     },
     "execution_count": 19,
     "metadata": {},
     "output_type": "execute_result"
    }
   ],
   "source": [
    "abs(T2[1]-T2[2]) #la diferencia es ahora mucho mayor pues se acumula con cada llamada a promedio en varianza"
   ]
  },
  {
   "cell_type": "code",
   "execution_count": 20,
   "metadata": {
    "collapsed": false
   },
   "outputs": [
    {
     "name": "stdout",
     "output_type": "stream",
     "text": [
      "  0.000058 seconds (150 allocations: 10.729 KB)\n",
      "  0.377045 seconds (5 allocations: 176 bytes)\n"
     ]
    }
   ],
   "source": [
    "@time promedio(M);\n",
    "@time varianza(M);"
   ]
  },
  {
   "cell_type": "code",
   "execution_count": 21,
   "metadata": {
    "collapsed": false
   },
   "outputs": [
    {
     "name": "stdout",
     "output_type": "stream",
     "text": [
      "  0.000024 seconds (5 allocations: 176 bytes)\n",
      "  0.000046 seconds (8 allocations: 288 bytes)\n"
     ]
    },
    {
     "data": {
      "text/plain": [
       "0.9968398706398196"
      ]
     },
     "execution_count": 21,
     "metadata": {},
     "output_type": "execute_result"
    }
   ],
   "source": [
    "@time mean(M); #la diferencia en tiempo en promedio no es muy significativa \n",
    "@time var(M); #la diferencia en tiempo en varianza sí lo es"
   ]
  },
  {
   "cell_type": "markdown",
   "metadata": {},
   "source": [
    "#### b) Implementar método para hacer los cálculos con una sola lectura de datos"
   ]
  },
  {
   "cell_type": "markdown",
   "metadata": {},
   "source": [
    "A continuación definiremos una función que calcula ambos valores: promedio y varianza con una sola lectura de los datos del array y devuelve una tupla con ambos resultados"
   ]
  },
  {
   "cell_type": "code",
   "execution_count": 22,
   "metadata": {
    "collapsed": false
   },
   "outputs": [
    {
     "data": {
      "text/plain": [
       "unalectura (generic function with 1 method)"
      ]
     },
     "execution_count": 22,
     "metadata": {},
     "output_type": "execute_result"
    }
   ],
   "source": [
    "\"\"\"\n",
    "Esta función calcula el promedio y la varianza de un conjunto de datos con una sola lectura array \n",
    "y devuelve una tupla con ambos resultados. \n",
    "Fuente: https://en.wikipedia.org/wiki/Algorithms_for_calculating_variance#Online_algorithm\n",
    "\"\"\"\n",
    "function unalectura(S::Array)\n",
    "    n = 0\n",
    "    mean = 0.0\n",
    "    M2 = 0.0\n",
    "     \n",
    "    for x in S\n",
    "        n += 1\n",
    "        delta = x - mean\n",
    "        mean += delta/n\n",
    "        M2 += delta*(x - mean)\n",
    "    end\n",
    "    \n",
    "    if n < 2\n",
    "        return [NaN,NaN]\n",
    "    else\n",
    "        return [mean,M2 / n] #dividimos entre n pues si tomamos n-1 estamos calculando la correción de Bessel de la varianza\n",
    "    end\n",
    "end    "
   ]
  },
  {
   "cell_type": "code",
   "execution_count": 23,
   "metadata": {
    "collapsed": false
   },
   "outputs": [
    {
     "data": {
      "text/plain": [
       "(-0.006889806437680143,0.996740186652756,[-0.006889806437680124,0.9967401866527571])"
      ]
     },
     "execution_count": 23,
     "metadata": {},
     "output_type": "execute_result"
    }
   ],
   "source": [
    "promedio(M),varianza(M), unalectura(M) "
   ]
  },
  {
   "cell_type": "code",
   "execution_count": 24,
   "metadata": {
    "collapsed": false
   },
   "outputs": [
    {
     "data": {
      "text/plain": [
       "1.9081958235744878e-17"
      ]
     },
     "execution_count": 24,
     "metadata": {},
     "output_type": "execute_result"
    }
   ],
   "source": [
    "abs(promedio(M)-unalectura(M)[1]) #diferencia en los resultados es muy pequeña"
   ]
  },
  {
   "cell_type": "code",
   "execution_count": 25,
   "metadata": {
    "collapsed": false
   },
   "outputs": [
    {
     "data": {
      "text/plain": [
       "1.1102230246251565e-15"
      ]
     },
     "execution_count": 25,
     "metadata": {},
     "output_type": "execute_result"
    }
   ],
   "source": [
    "abs(varianza(M)-unalectura(M)[2]) #la diferencia también es muy pequeña, aunque trés órdenes de magnitud mayor"
   ]
  },
  {
   "cell_type": "code",
   "execution_count": 26,
   "metadata": {
    "collapsed": false
   },
   "outputs": [
    {
     "name": "stdout",
     "output_type": "stream",
     "text": [
      "  0.000047 seconds (5 allocations: 176 bytes)\n",
      "  0.377458 seconds (5 allocations: 176 bytes)\n"
     ]
    }
   ],
   "source": [
    "@time promedio(M);\n",
    "@time varianza(M);"
   ]
  },
  {
   "cell_type": "code",
   "execution_count": 27,
   "metadata": {
    "collapsed": false
   },
   "outputs": [
    {
     "name": "stdout",
     "output_type": "stream",
     "text": [
      "  0.000348 seconds (7 allocations: 272 bytes)\n"
     ]
    },
    {
     "data": {
      "text/plain": [
       "2-element Array{Float64,1}:\n",
       " -0.00688981\n",
       "  0.99674   "
      ]
     },
     "execution_count": 27,
     "metadata": {},
     "output_type": "execute_result"
    }
   ],
   "source": [
    "@time unalectura(M); #es mucho más veloz que el cálculo con varianza() puesto que debe realizar menos iteraciones"
   ]
  },
  {
   "cell_type": "markdown",
   "metadata": {},
   "source": [
    "#### c) Comparar ambos algoritmos para datos de distintas longitudes con diferentes órdenes de magnitud "
   ]
  },
  {
   "cell_type": "markdown",
   "metadata": {},
   "source": [
    "A continuació generaremos distintos arreglos aleatorios de datos de 1 dimensión para evaluar los algoritmos "
   ]
  },
  {
   "cell_type": "code",
   "execution_count": 28,
   "metadata": {
    "collapsed": false
   },
   "outputs": [
    {
     "data": {
      "text/plain": [
       "10-element Array{Float64,1}:\n",
       " 0.59098  \n",
       " 0.693069 \n",
       " 0.527324 \n",
       " 0.29513  \n",
       " 0.725549 \n",
       " 0.0182964\n",
       " 0.302518 \n",
       " 0.245168 \n",
       " 0.508152 \n",
       " 0.545102 "
      ]
     },
     "execution_count": 28,
     "metadata": {},
     "output_type": "execute_result"
    }
   ],
   "source": [
    "A=rand(10); #en 0:1"
   ]
  },
  {
   "cell_type": "code",
   "execution_count": 38,
   "metadata": {
    "collapsed": false
   },
   "outputs": [],
   "source": [
    "B=rand(10^4);"
   ]
  },
  {
   "cell_type": "code",
   "execution_count": 37,
   "metadata": {
    "collapsed": false
   },
   "outputs": [
    {
     "data": {
      "text/plain": [
       "10-element Array{Int64,1}:\n",
       " -2403009847316992293\n",
       " -8357592661525893981\n",
       "  1046534662520323075\n",
       "  8780676150063094216\n",
       " -2247211253976478071\n",
       " -5010659890304722783\n",
       "  3484227145918744324\n",
       "  5877665929402322119\n",
       "  9047613084883502447\n",
       " -4828404367960823290"
      ]
     },
     "execution_count": 37,
     "metadata": {},
     "output_type": "execute_result"
    }
   ],
   "source": [
    "C=rand(-typemax(Int64):typemax(Int64),10); #rangos máximos de enteros"
   ]
  },
  {
   "cell_type": "code",
   "execution_count": 39,
   "metadata": {
    "collapsed": true
   },
   "outputs": [],
   "source": [
    "D=rand(-typemax(Int64):typemax(Int64),10^4);"
   ]
  },
  {
   "cell_type": "code",
   "execution_count": 40,
   "metadata": {
    "collapsed": false
   },
   "outputs": [],
   "source": [
    "E=rand(-eps(1.0):eps(1.0),10);"
   ]
  },
  {
   "cell_type": "code",
   "execution_count": 41,
   "metadata": {
    "collapsed": false
   },
   "outputs": [],
   "source": [
    "F=rand(-eps(1.0):eps(1.0),10^4);"
   ]
  },
  {
   "cell_type": "markdown",
   "metadata": {},
   "source": [
    "A continuación evaluaremos los datos en las distintas funciones"
   ]
  },
  {
   "cell_type": "code",
   "execution_count": 70,
   "metadata": {
    "collapsed": false
   },
   "outputs": [
    {
     "name": "stdout",
     "output_type": "stream",
     "text": [
      "  0.000014 seconds (5 allocations: 176 bytes)\n",
      "  0.000009 seconds (7 allocations: 272 bytes)\n"
     ]
    },
    {
     "data": {
      "text/plain": [
       "(0.4451287294723508,0.04471123908776299,[0.4451287294723508,0.044711239087763005])"
      ]
     },
     "execution_count": 70,
     "metadata": {},
     "output_type": "execute_result"
    }
   ],
   "source": [
    "@time promedio(A);\n",
    "@time unalectura(A)\n",
    "promedio(A),varianza(A),unalectura(A)"
   ]
  },
  {
   "cell_type": "code",
   "execution_count": 72,
   "metadata": {
    "collapsed": false
   },
   "outputs": [
    {
     "name": "stdout",
     "output_type": "stream",
     "text": [
      "  0.000066 seconds (5 allocations: 176 bytes)\n",
      "  0.000347 seconds (7 allocations: 272 bytes)\n"
     ]
    },
    {
     "data": {
      "text/plain": [
       "(0.5025070016947537,0.08283133846614259,[0.5025070016947519,0.08283133846614309])"
      ]
     },
     "execution_count": 72,
     "metadata": {},
     "output_type": "execute_result"
    }
   ],
   "source": [
    "@time promedio(B);\n",
    "@time unalectura(B)\n",
    "promedio(B),varianza(B),unalectura(B)"
   ]
  },
  {
   "cell_type": "code",
   "execution_count": 73,
   "metadata": {
    "collapsed": false
   },
   "outputs": [
    {
     "name": "stdout",
     "output_type": "stream",
     "text": [
      "  0.000013 seconds (5 allocations: 176 bytes)\n",
      "  0.000011 seconds (7 allocations: 272 bytes)\n"
     ]
    },
    {
     "data": {
      "text/plain": [
       "(5.389838951703074e17,3.32930541294527e37,[5.389838951703076e17,3.32930541294527e37])"
      ]
     },
     "execution_count": 73,
     "metadata": {},
     "output_type": "execute_result"
    }
   ],
   "source": [
    "@time promedio(C);\n",
    "@time unalectura(C)\n",
    "promedio(C),varianza(C),unalectura(C)"
   ]
  },
  {
   "cell_type": "code",
   "execution_count": 75,
   "metadata": {
    "collapsed": false
   },
   "outputs": [
    {
     "name": "stdout",
     "output_type": "stream",
     "text": [
      "  0.000078 seconds (5 allocations: 176 bytes)\n",
      "  0.000485 seconds (7 allocations: 272 bytes)\n"
     ]
    },
    {
     "data": {
      "text/plain": [
       "(4.6310127561484424e16,2.8425325540571184e37,[4.6310127561484456e16,2.8425325540571264e37])"
      ]
     },
     "execution_count": 75,
     "metadata": {},
     "output_type": "execute_result"
    }
   ],
   "source": [
    "@time promedio(D);\n",
    "@time unalectura(D)\n",
    "promedio(D),varianza(D),unalectura(D)"
   ]
  },
  {
   "cell_type": "code",
   "execution_count": 76,
   "metadata": {
    "collapsed": false
   },
   "outputs": [
    {
     "name": "stdout",
     "output_type": "stream",
     "text": [
      "  0.000009 seconds (5 allocations: 176 bytes)\n",
      "  0.000009 seconds (7 allocations: 272 bytes)\n"
     ]
    },
    {
     "data": {
      "text/plain": [
       "(-2.220446049250313e-16,0.0,[-2.220446049250313e-16,0.0])"
      ]
     },
     "execution_count": 76,
     "metadata": {},
     "output_type": "execute_result"
    }
   ],
   "source": [
    "@time promedio(E);\n",
    "@time unalectura(E)\n",
    "promedio(E),varianza(E),unalectura(E)"
   ]
  },
  {
   "cell_type": "code",
   "execution_count": 78,
   "metadata": {
    "collapsed": false
   },
   "outputs": [
    {
     "name": "stdout",
     "output_type": "stream",
     "text": [
      "  0.000068 seconds (5 allocations: 176 bytes)\n",
      "  0.000239 seconds (8 allocations: 288 bytes)\n"
     ]
    },
    {
     "data": {
      "text/plain": [
       "(-2.220446049250313e-16,0.0,[-2.220446049250313e-16,0.0])"
      ]
     },
     "execution_count": 78,
     "metadata": {},
     "output_type": "execute_result"
    }
   ],
   "source": [
    "@time promedio(F);\n",
    "@time unalectura(F)[1]\n",
    "promedio(F),varianza(F),unalectura(F)"
   ]
  },
  {
   "cell_type": "markdown",
   "metadata": {},
   "source": [
    "# 3. Método de Simpson para integrar"
   ]
  },
  {
   "cell_type": "markdown",
   "metadata": {},
   "source": [
    "El *método de Simpson* es un método de integración numérica para la aproximación de integrales definidas en un intervalo *(a,b)*.\n",
    "\n",
    "Sigue esta forma:\n",
    "$$\\int_a^b f(x)dx \\approx \\frac{b-a}{6}\\left[f(a)+4f\\left(\\frac{a+b}{2}\\right)+f(b)\\right]$$\n",
    "Definiremos ahora la función `simpson()` que nos permitirá aproximar la integral de cualquier función en un intervalo *(a,b)*:"
   ]
  },
  {
   "cell_type": "code",
   "execution_count": 79,
   "metadata": {
    "collapsed": false
   },
   "outputs": [
    {
     "data": {
      "text/plain": [
       "simpson (generic function with 1 method)"
      ]
     },
     "execution_count": 79,
     "metadata": {},
     "output_type": "execute_result"
    }
   ],
   "source": [
    "\"\"\"This is the Simpson's rule for numerical integration, proposed by mathematician Thomas Simpson.\n",
    "It accepts as parameters function f and two numbers a,b that define the interval inside which the integral of f will be approximated.\"\"\"\n",
    "function simpson(f::Function,a,b)\n",
    "    integral = (b-a)/6 * (f(a)+4*f((a+b)/2)+f(b));\n",
    "    return integral\n",
    "end"
   ]
  },
  {
   "cell_type": "code",
   "execution_count": 80,
   "metadata": {
    "collapsed": false,
    "scrolled": true
   },
   "outputs": [
    {
     "name": "stdout",
     "output_type": "stream",
     "text": [
      "search: simpson\n",
      "\n"
     ]
    },
    {
     "data": {
      "text/latex": [
       "This is the Simpson's rule for numerical integration, proposed by mathematician Thomas Simpson. It accepts as parameters function f and two numbers a,b that define the interval inside which the integral of f will be approximated.\n"
      ],
      "text/markdown": [
       "This is the Simpson's rule for numerical integration, proposed by mathematician Thomas Simpson. It accepts as parameters function f and two numbers a,b that define the interval inside which the integral of f will be approximated.\n"
      ],
      "text/plain": [
       "This is the Simpson's rule for numerical integration, proposed by mathematician Thomas Simpson. It accepts as parameters function f and two numbers a,b that define the interval inside which the integral of f will be approximated.\n"
      ]
     },
     "execution_count": 80,
     "metadata": {},
     "output_type": "execute_result"
    }
   ],
   "source": [
    "?simpson"
   ]
  },
  {
   "cell_type": "markdown",
   "metadata": {},
   "source": [
    "Definamos nuestra función prueba como $f(x) = x^2$."
   ]
  },
  {
   "cell_type": "code",
   "execution_count": 81,
   "metadata": {
    "collapsed": false
   },
   "outputs": [
    {
     "data": {
      "text/plain": [
       "f (generic function with 1 method)"
      ]
     },
     "execution_count": 81,
     "metadata": {},
     "output_type": "execute_result"
    }
   ],
   "source": [
    "f(x) = x^2"
   ]
  },
  {
   "cell_type": "markdown",
   "metadata": {},
   "source": [
    "Sabemos que la integral de $f(x) = x^2$ es $\\frac{x^3}{3}$ y, evaluada de 0 a 1, nos da un valor de $\\approx 0.333333$. Veamos si nuestra función es acertada."
   ]
  },
  {
   "cell_type": "code",
   "execution_count": 82,
   "metadata": {
    "collapsed": false
   },
   "outputs": [
    {
     "data": {
      "text/plain": [
       "0.3333333333333333"
      ]
     },
     "execution_count": 82,
     "metadata": {},
     "output_type": "execute_result"
    }
   ],
   "source": [
    "simpson(f,0,1)"
   ]
  },
  {
   "cell_type": "markdown",
   "metadata": {},
   "source": [
    "Además, veamos que si tomamos el intervalo inverso (i.e., el (1,0)), nos da el negativo de la integral."
   ]
  },
  {
   "cell_type": "code",
   "execution_count": 83,
   "metadata": {
    "collapsed": false
   },
   "outputs": [
    {
     "data": {
      "text/plain": [
       "-0.3333333333333333"
      ]
     },
     "execution_count": 83,
     "metadata": {},
     "output_type": "execute_result"
    }
   ],
   "source": [
    "simpson(f,1,0)"
   ]
  },
  {
   "cell_type": "markdown",
   "metadata": {},
   "source": [
    "Vemos que el ejecutar simpson integrando de 0 a 0 nos devuelve el resultado trivial"
   ]
  },
  {
   "cell_type": "code",
   "execution_count": 84,
   "metadata": {
    "collapsed": false
   },
   "outputs": [
    {
     "data": {
      "text/plain": [
       "0.0"
      ]
     },
     "execution_count": 84,
     "metadata": {},
     "output_type": "execute_result"
    }
   ],
   "source": [
    "simpson(f,0,0)"
   ]
  },
  {
   "cell_type": "markdown",
   "metadata": {},
   "source": [
    "Sin embargo, el método no es capaz de calcular de manera precisa integrales impropias"
   ]
  },
  {
   "cell_type": "code",
   "execution_count": 85,
   "metadata": {
    "collapsed": false
   },
   "outputs": [
    {
     "data": {
      "text/plain": [
       "g (generic function with 1 method)"
      ]
     },
     "execution_count": 85,
     "metadata": {},
     "output_type": "execute_result"
    }
   ],
   "source": [
    "g(x)=exp(-x^2)"
   ]
  },
  {
   "cell_type": "code",
   "execution_count": 86,
   "metadata": {
    "collapsed": false
   },
   "outputs": [
    {
     "data": {
      "text/plain": [
       "Inf"
      ]
     },
     "execution_count": 86,
     "metadata": {},
     "output_type": "execute_result"
    }
   ],
   "source": [
    "simpson(g,0,Inf)"
   ]
  },
  {
   "cell_type": "code",
   "execution_count": null,
   "metadata": {
    "collapsed": true
   },
   "outputs": [],
   "source": []
  }
 ],
 "metadata": {
  "kernelspec": {
   "display_name": "Julia 0.4.3",
   "language": "julia",
   "name": "julia-0.4"
  },
  "language_info": {
   "file_extension": ".jl",
   "mimetype": "application/julia",
   "name": "julia",
   "version": "0.4.3"
  }
 },
 "nbformat": 4,
 "nbformat_minor": 0
}
