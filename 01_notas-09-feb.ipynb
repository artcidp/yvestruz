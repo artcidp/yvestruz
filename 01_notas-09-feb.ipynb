{
 "cells": [
  {
   "cell_type": "markdown",
   "metadata": {},
   "source": [
    "# Primera clase\n",
    "\n",
    "# Acordeón de git"
   ]
  },
  {
   "cell_type": "markdown",
   "metadata": {},
   "source": [
    "Vamos a documentar código.\n",
    "``` python\n",
    "def f(x):\n",
    "    print (\"Esto es 'f(x)'\")\n",
    "```\n",
    "\n",
    "Se usan comillas para comentar código"
   ]
  },
  {
   "cell_type": "markdown",
   "metadata": {},
   "source": [
    "Listas\n",
    "1. hola\n",
    "    - dos\n",
    "    - tres\n",
    "        * yes\n",
    "        * no\n",
    "            + no\n",
    "            \n",
    "hay [ligas](http://www.google.com)"
   ]
  },
  {
   "cell_type": "markdown",
   "metadata": {},
   "source": [
    "*git* es un sistema controlador de versiones\n",
    "1. tener acceso al historial *completo* del proyecto\n",
    "2. es herramienta colaborativa\n",
    "3. de uso local pero se sube al internet"
   ]
  },
  {
   "cell_type": "markdown",
   "metadata": {},
   "source": [
    "**Ejercicio 1:** Obtener una cuenta en GitHub"
   ]
  },
  {
   "cell_type": "markdown",
   "metadata": {},
   "source": [
    "AL usar Julia se empieza la instrucción con un semicolon (;)"
   ]
  },
  {
   "cell_type": "markdown",
   "metadata": {},
   "source": [
    "Algunos comandos útiles de `git`\n",
    "\n",
    "- `git init` inicializa un repositorio a partir del directorio local\n",
    "- `git status` da información sobre el estado del repositorio local\n",
    "- \".gitignore\" tiene información de cosas que **no** se quieren desplegar con `git status`\n",
    "- `git add <file>` incluye a \"file\" en la lista de archivos que van a segurise en el repositorio\n",
    "- `git commit` es para añadir archivos a seguirse en el directorio - la primera línea sirve de título y si se deja un espacio, se puede explicar el cambio. También se puede poner `git commit -m \"msj\"`, para insertar el mensaje.\n",
    "- `git log` te dice los commits\n",
    "    * `git log --oneline` sólo te da la primera línea\n",
    "    * `git log --graph` te da la bifurcación de versiones (de los commits)\n",
    "- `git config --list` o `--global` te da la configuración del repo\n",
    "    * `git config -- global user.name`\n",
    "    * `git config -- global user.email`\n",
    "    * `git config -- global github.user`\n",
    "- `git diff <archivo>` te dice las diferencias de versiones\n",
    "- `git clone <url>` clona el repositorio de la URL a la biblioteca local\n",
    "- `git remote` ver permisos? y administrar direcciones\n",
    "    * `git remote -v` verbose\n",
    "    * `git remote add` agrega un repo remoto"
   ]
  }
 ],
 "metadata": {
  "kernelspec": {
   "display_name": "Python 2",
   "language": "python",
   "name": "python2"
  },
  "language_info": {
   "codemirror_mode": {
    "name": "ipython",
    "version": 2
   },
   "file_extension": ".py",
   "mimetype": "text/x-python",
   "name": "python",
   "nbconvert_exporter": "python",
   "pygments_lexer": "ipython2",
   "version": "2.7.11"
  }
 },
 "nbformat": 4,
 "nbformat_minor": 0
}
