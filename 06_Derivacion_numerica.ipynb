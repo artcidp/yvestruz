{
 "cells": [
  {
   "cell_type": "markdown",
   "metadata": {},
   "source": [
    "# Derivación numérica: diferencias finitas"
   ]
  },
  {
   "cell_type": "markdown",
   "metadata": {},
   "source": [
    "### NOTA\n",
    "Este notebook se iniciará en la clase; la resolución completa debe ser enviada como \"Tarea3.ipynb\", desde su carpeta de tareas. Se puede hacer en equipo, con un máximo de dos personas. Si se hace en equipo, incluyan ambos nombres de manera clara."
   ]
  },
  {
   "cell_type": "markdown",
   "metadata": {},
   "source": [
    "En este notebook, implementarán funciones que calculan la derivada numéricamente, de una función $f(x)$ en un punto $x_0$ dado."
   ]
  },
  {
   "cell_type": "markdown",
   "metadata": {},
   "source": [
    "## Derivada *derecha*\n",
    "\n",
    "Definan una función `derivada_derecha` que calcule *numéricamente* la derivada de una función $f(x)$ en una variable (a priori arbitaria) que se debe introducir como argumento, en un punto $x_0$ arbitrario, pero que por default lo hace en  $x_0=0.0$. \n",
    "\n",
    "Para esto, utilicen la definición de la derivada:\n",
    "\n",
    "\\begin{equation}\n",
    "f'(x_0) = \\lim_{h\\to 0} \\frac{f(x_0+h)-f(x_0)}{h},\n",
    "\\end{equation}\n",
    "\n",
    "que requiere la especificación de `h`. (Este método se conoce por el nombre de *diferencias finitas*.)\n",
    "\n",
    "A fin de simular el $\\lim_{h\\to 0}$, consideren distintos valores de $h$ que precisamente simulen dicho límite. Para cada valor de $h$ calculen el error absoluto del cálculo numérico (respecto al valor *exacto*, que deberán conocer analíticamente). (Para ser concretos, obtengan la derivada de la función de prueba $f(x) = 3x^3-2$, en $x_0=1$.) Dibujen, como función de $h$, el error de su cálculo (usar escala logarítmica en ambos ejes puede ser una buena idea). A partir de eso, ¿qué conclusión podemos sacar sobre *la convergencia* del cálculo numérico de la derivada? \n"
   ]
  },
  {
   "cell_type": "code",
   "execution_count": 9,
   "metadata": {
    "collapsed": false
   },
   "outputs": [
    {
     "data": {
      "text/plain": [
       "g (generic function with 1 method)"
      ]
     },
     "execution_count": 9,
     "metadata": {},
     "output_type": "execute_result"
    }
   ],
   "source": [
    "g(x) = x^2"
   ]
  },
  {
   "cell_type": "code",
   "execution_count": 25,
   "metadata": {
    "collapsed": false
   },
   "outputs": [
    {
     "data": {
      "text/plain": [
       "derivada_derecha (generic function with 2 methods)"
      ]
     },
     "execution_count": 25,
     "metadata": {},
     "output_type": "execute_result"
    }
   ],
   "source": [
    "function derivada_derecha(f::Function,x0 = 0.0)\n",
    "    \n",
    "    rango = logspace(-15,-1,20) + x0\n",
    "    f_vect = map(f,rango)\n",
    "    derivada = similar(rango)\n",
    "    \n",
    "    for k = 1:(length(rango)-1)\n",
    "        h = rango[k]-x0\n",
    "        derivada[k] = (f_vect[k]-f(x0))/h\n",
    "    end\n",
    "    return promote(derivada,BigFloat)\n",
    "end\n",
    "    \n",
    "#     h = rango[2]-rango[1]\n",
    "    \n",
    "#     derivada = similar(rango)\n",
    "    \n",
    "#     for n = 2:15\n",
    "#         rango = logspace(-n,-1,n) + x0\n",
    "#         f_vect = map(f,rango)\n",
    "#         h = rango[2]-rango[1]\n",
    "        \n",
    "#         derivada[n] = (f_vect[2]-f_vect[1])/h\n",
    "#     end\n",
    "    \n",
    "#     return derivada\n",
    "# end"
   ]
  },
  {
   "cell_type": "code",
   "execution_count": 26,
   "metadata": {
    "collapsed": false
   },
   "outputs": [
    {
     "data": {
      "text/plain": [
       "([16.0,12.0,12.0,12.021857923497267,12.004012036108325,12.000735158978129,12.0,12.000024698218642,12.000004527135081,12.0,12.0,12.000000139401374,12.000000695014482,12.000003791869162,12.00002069124453,12.000112883782268,12.000615848209273,12.00335981828658,12.018329807108252,0.0],BigFloat)"
      ]
     },
     "execution_count": 26,
     "metadata": {},
     "output_type": "execute_result"
    }
   ],
   "source": [
    "derivada_derecha(g,6)"
   ]
  },
  {
   "cell_type": "code",
   "execution_count": 27,
   "metadata": {
    "collapsed": true
   },
   "outputs": [],
   "source": [
    "using PyPlot"
   ]
  },
  {
   "cell_type": "code",
   "execution_count": 11,
   "metadata": {
    "collapsed": false
   },
   "outputs": [
    {
     "data": {
      "text/plain": [
       "20-element Array{Float64,1}:\n",
       " 2.1    \n",
       " 2.1    \n",
       " 2.1    \n",
       " 2.1    \n",
       " 2.1    \n",
       " 2.1    \n",
       " 2.1    \n",
       " 2.1    \n",
       " 2.1    \n",
       " 2.1    \n",
       " 2.1    \n",
       " 2.1    \n",
       " 2.1    \n",
       " 2.1    \n",
       " 2.10002\n",
       " 2.10011\n",
       " 2.10062\n",
       " 2.10336\n",
       " 2.11833\n",
       " 0.0    "
      ]
     },
     "execution_count": 11,
     "metadata": {},
     "output_type": "execute_result"
    }
   ],
   "source": [
    "derivada_derecha(g,1)"
   ]
  },
  {
   "cell_type": "code",
   "execution_count": 243,
   "metadata": {
    "collapsed": false
   },
   "outputs": [
    {
     "data": {
      "text/plain": [
       "15-element Array{Float64,1}:\n",
       "  0.0   \n",
       " 20.0229\n",
       " 20.0027\n",
       " 20.0003\n",
       " 20.0   \n",
       " 20.0   \n",
       " 20.0   \n",
       " 20.0   \n",
       " 20.0   \n",
       " 20.0   \n",
       " 19.9999\n",
       " 20.0   \n",
       " 20.0035\n",
       " 20.0265\n",
       " 19.7895"
      ]
     },
     "execution_count": 243,
     "metadata": {},
     "output_type": "execute_result"
    }
   ],
   "source": [
    "derivada_derecha(f,10)"
   ]
  },
  {
   "cell_type": "markdown",
   "metadata": {},
   "source": [
    "## Derivada simétrica\n",
    "\n",
    "Repitan el ejercicio anterior usando cómo definición de la derivada la versión *simétrica* de la definición de la derivada, es decir:\n",
    "\n",
    "\\begin{equation}\n",
    "f'(x_0) = \\lim_{h\\to 0} \\frac{f(x_0+h)-f(x_0-h)}{2h}.\n",
    "\\end{equation}\n",
    "\n"
   ]
  },
  {
   "cell_type": "code",
   "execution_count": null,
   "metadata": {
    "collapsed": true
   },
   "outputs": [],
   "source": []
  },
  {
   "cell_type": "markdown",
   "metadata": {},
   "source": [
    "## Derivada *compleja*"
   ]
  },
  {
   "cell_type": "markdown",
   "metadata": {},
   "source": [
    "Repitan el ejercicio anterior considerando ahora que el incremento de la variable independiente es infinitesimal e *imaginario*. Así, tenemos la definición:\n",
    "\n",
    "\\begin{equation}\n",
    "f'(x_0) = \\lim_{h\\to 0} \\Im\\Big(\\frac{f(x_0+ i h)}{h}\\Big).\n",
    "\\end{equation}\n"
   ]
  },
  {
   "cell_type": "code",
   "execution_count": null,
   "metadata": {
    "collapsed": true
   },
   "outputs": [],
   "source": []
  },
  {
   "cell_type": "markdown",
   "metadata": {},
   "source": [
    "## Preguntas"
   ]
  },
  {
   "cell_type": "markdown",
   "metadata": {},
   "source": [
    "- ¿Cuál de las definiciones anteriores es mejor en términos de dar el valor *más exacto* de la derivada? Den un argumento sólido de su conclusión en términos del tipo de convergencia hacia el valor exacto."
   ]
  },
  {
   "cell_type": "code",
   "execution_count": null,
   "metadata": {
    "collapsed": true
   },
   "outputs": [],
   "source": []
  },
  {
   "cell_type": "markdown",
   "metadata": {},
   "source": [
    "- ¿Qué comportamiento de las derivadas en términos de $h$ nos incomoda (en lo más profundo de las entrañas)? ¿A qué se debe esto?"
   ]
  },
  {
   "cell_type": "code",
   "execution_count": null,
   "metadata": {
    "collapsed": true
   },
   "outputs": [],
   "source": []
  }
 ],
 "metadata": {
  "kernelspec": {
   "display_name": "Julia 0.4.3",
   "language": "julia",
   "name": "julia-0.4"
  },
  "language_info": {
   "file_extension": ".jl",
   "mimetype": "application/julia",
   "name": "julia",
   "version": "0.4.3"
  }
 },
 "nbformat": 4,
 "nbformat_minor": 0
}
