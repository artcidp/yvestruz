{
 "cells": [
  {
   "cell_type": "markdown",
   "metadata": {},
   "source": [
    "# Ramas"
   ]
  },
  {
   "cell_type": "markdown",
   "metadata": {},
   "source": [
    "- `git branch -v` verborrea acerca de las ramas que hay en el repo\n",
    "- `git branch <nombre>` crea una nueva rama\n",
    "- `git checkout <rama>` te cambias a la rama con nombre\n",
    "    * alternativamente, `git checkout -b <nombre>` crea una rama con nombre y te hace checkout\n",
    "- `git branch -d <nombre>` borra la rama\n",
    "- `git merge <nombre_rama>` fusiona la rama con master"
   ]
  },
  {
   "cell_type": "markdown",
   "metadata": {},
   "source": [
    "¿Qué pasa si quiero hacer `merge` con el repositorio en línea cuando no tengo los últimos cambios?\n",
    "\n",
    "Desde `master`, tengo que escribir `git rebase <rama_actualizada>` para actualizar `master` con los cambios de la otra rama. "
   ]
  },
  {
   "cell_type": "markdown",
   "metadata": {},
   "source": [
    "``` julia\n",
    "Pkg.checkout(\"IJulia\")\n",
    "Pkg.build(\"IJulia\")\n",
    "```"
   ]
  }
 ],
 "metadata": {
  "kernelspec": {
   "display_name": "Python 2",
   "language": "python",
   "name": "python2"
  },
  "language_info": {
   "codemirror_mode": {
    "name": "ipython",
    "version": 2
   },
   "file_extension": ".py",
   "mimetype": "text/x-python",
   "name": "python",
   "nbconvert_exporter": "python",
   "pygments_lexer": "ipython2",
   "version": "2.7.11"
  }
 },
 "nbformat": 4,
 "nbformat_minor": 0
}
